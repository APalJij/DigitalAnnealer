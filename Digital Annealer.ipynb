{
 "cells": [
  {
   "cell_type": "code",
   "execution_count": 65,
   "id": "429fad60",
   "metadata": {},
   "outputs": [],
   "source": [
    "import requests\n",
    "\n",
    "#Header dictionary\n",
    "\n",
    "headers = {\n",
    "    'accept' : 'application/json',\n",
    "    'X-Api-Key': 'api_key',\n",
    "    'Content-Type': 'application/json'\n",
    "    }\n",
    "\n",
    "'''\n",
    "api links\n",
    "'''\n",
    "\n",
    "healthcheck='https://api.aispf.global.fujitsu.com/da/v1/healthcheck'\n",
    "H2Q='https://api.aispf.global.fujitsu.com/da/v1/qubo/hobo2qubo'\n",
    "solver='https://api.aispf.global.fujitsu.com/da/v2/qubo/solve'\n",
    "async_solver='https://api.aispf.global.fujitsu.com/da/v2/async/qubo/solve'\n",
    "job='https://api.aispf.global.fujitsu.com/da/v2/async/jobs'\n",
    "job_sum='https://api.aispf.global.fujitsu.com/da/v2/async/jobs/result'\n",
    "jo_cacel='https://api.aispf.global.fujitsu.com/da/v2/async/jobs/cancel'\n",
    "\n",
    "\n",
    "#functions\n",
    "\n",
    "\n",
    "def Api_key(X_api_key):\n",
    "    headers['X-Api-Key']=X_api_key\n",
    "\n",
    "\n",
    "\n",
    "def Status_Check(headers,healthcheck='https://api.aispf.global.fujitsu.com/da/v1/healthcheck'):\n",
    "\n",
    "    response = requests.get(healthcheck,headers=headers)\n",
    "    return response.text\n",
    "\n",
    "def hobo2qubo(headers,data,H2Q='https://api.aispf.global.fujitsu.com/da/v1/qubo/hobo2qubo'):\n",
    "\n",
    "    response = requests.post(H2Q,headers=headers,data=data)\n",
    "    return response.text\n",
    "\n",
    "\n",
    "def solve(headers,data,solver='https://api.aispf.global.fujitsu.com/da/v2/qubo/solve'):\n",
    "\n",
    "    response = requests.post(solver,headers=headers,data=data)\n",
    "    return response.text\n",
    "\n",
    "def async_solve(headers,data,async_solver='https://api.aispf.global.fujitsu.com/da/v2/async/qubo/solve'):\n",
    "\n",
    "    response = requests.post(async_solver, headers=headers, data=data)\n",
    "    return response.text\n",
    "\n",
    "def jobs(headers,job='https://api.aispf.global.fujitsu.com/da/v2/async/jobs'):\n",
    "    response = requests.get(job, headers=headers)\n",
    "    return response.text\n",
    "\n",
    "def job_summary(headers,job_id,job_sum='https://api.aispf.global.fujitsu.com/da/v2/async/jobs/result'):\n",
    "    response = requests.get(job_sum+'/{job_id}', headers=headers)\n",
    "    return response.text\n",
    "\n",
    "def job_delete(headers,job_id,job_sum='https://api.aispf.global.fujitsu.com/da/v2/async/jobs/result'):\n",
    "    response = requests.delete(job_sum+'/{job_id}', headers=headers)\n",
    "    return response.text\n",
    "\n",
    "def job_cancel(headers,data,jo_cacel='https://api.aispf.global.fujitsu.com/da/v2/async/jobs/cancel'):\n",
    "    response = requests.post(jo_cacel, headers=headers, data=data)\n",
    "    return response.text"
   ]
  },
  {
   "cell_type": "markdown",
   "id": "fac9d3ad",
   "metadata": {},
   "source": [
    "# API key "
   ]
  },
  {
   "cell_type": "code",
   "execution_count": 66,
   "id": "b147bdbd",
   "metadata": {},
   "outputs": [],
   "source": [
    "Api_key('c633183ae72dfae8584bcfbbebba2b1a3c0914381f7933a8286e56ac5aa5c1eb')"
   ]
  },
  {
   "cell_type": "markdown",
   "id": "af06a968",
   "metadata": {},
   "source": [
    "# StatusCheck"
   ]
  },
  {
   "cell_type": "code",
   "execution_count": 67,
   "id": "ff652528",
   "metadata": {},
   "outputs": [
    {
     "name": "stdout",
     "output_type": "stream",
     "text": [
      "{}\n"
     ]
    }
   ],
   "source": [
    "print(Status_Check(headers))\n"
   ]
  },
  {
   "cell_type": "markdown",
   "id": "65c9ce9f",
   "metadata": {},
   "source": [
    "# HOBO to QUBO"
   ]
  },
  {
   "cell_type": "code",
   "execution_count": 68,
   "id": "588d0577",
   "metadata": {},
   "outputs": [],
   "source": [
    "data = '{\"terms\":[{\"coefficient\":1,\"polynomials\":[1,2,3]}]}'"
   ]
  },
  {
   "cell_type": "code",
   "execution_count": 69,
   "id": "0cfc1658",
   "metadata": {},
   "outputs": [
    {
     "name": "stdout",
     "output_type": "stream",
     "text": [
      "{\"terms\":[{\"coefficient\":2,\"polynomials\":[1,2]},{\"coefficient\":-4,\"polynomials\":[1,4]},{\"coefficient\":-4,\"polynomials\":[2,4]},{\"coefficient\":1,\"polynomials\":[3,4]},{\"coefficient\":6,\"polynomials\":[4]}]}\n"
     ]
    }
   ],
   "source": [
    "print(hobo2qubo(headers,data,H2Q))"
   ]
  },
  {
   "cell_type": "markdown",
   "id": "a8b3a3bd",
   "metadata": {},
   "source": [
    "# Solver"
   ]
  },
  {
   "cell_type": "code",
   "execution_count": 53,
   "id": "d794814f",
   "metadata": {},
   "outputs": [
    {
     "data": {
      "text/plain": [
       "'{\"error\":{\"code\":\"403\",\"title\":\"Forbidden\",\"message\":\"Forbidden Method or Uri.\"}}'"
      ]
     },
     "execution_count": 53,
     "metadata": {},
     "output_type": "execute_result"
    }
   ],
   "source": [
    "data =  '{\"fujitsuDA2PT\":{\"number_iterations\":1000000,\"number_replicas\":26,\"guidance_config\":{\"1\":false,\"2\":false,\"4\":false}},\"binary_polynomial\":{\"terms\":[{\"coefficient\":2,\"polynomials\":[1,2]},{\"coefficient\":-4,\"polynomials\":[2,4]}]}}'\n",
    "\n",
    "\n",
    "solve(headers,data)"
   ]
  },
  {
   "cell_type": "markdown",
   "id": "c81731a0",
   "metadata": {},
   "source": [
    "# Async Solver"
   ]
  },
  {
   "cell_type": "code",
   "execution_count": 60,
   "id": "b98a9395",
   "metadata": {},
   "outputs": [
    {
     "data": {
      "text/plain": [
       "'{\"error\":{\"code\":\"403\",\"title\":\"Forbidden\",\"message\":\"Forbidden Method or Uri.\"}}'"
      ]
     },
     "execution_count": 60,
     "metadata": {},
     "output_type": "execute_result"
    }
   ],
   "source": [
    "data = '{\"fujitsuDA2PT\":{\"number_iterations\":1000000,\"number_replicas\":26,\"guidance_config\":{\"1\":false,\"2\":false,\"4\":false}},\"binary_polynomial\":{\"terms\":[{\"coefficient\":2,\"polynomials\":[1,2]},{\"coefficient\":-4,\"polynomials\":[2,4]}]}}'\n",
    "\n",
    "async_solve(headers,data)"
   ]
  },
  {
   "cell_type": "markdown",
   "id": "62823602",
   "metadata": {},
   "source": [
    "# PROTEIN FOLDING PROBLEM"
   ]
  },
  {
   "cell_type": "code",
   "execution_count": 72,
   "id": "4ae895af",
   "metadata": {},
   "outputs": [],
   "source": [
    "data = '{\"terms\":[{\"coefficient\":-1,\"polynomials\":[ ]},{\"coefficient\":-4,\"polynomials\":[3]},{\"coefficient\":9,\"polynomials\":[1,3]},{\"coefficient\":9,\"polynomials\":[2,3]},{\"coefficient\":-16,\"polynomials\":[1,2,3]}]'"
   ]
  },
  {
   "cell_type": "code",
   "execution_count": 96,
   "id": "24fc9df4",
   "metadata": {},
   "outputs": [],
   "source": [
    "data = '{\"terms\":[{\"coefficient\":-16,\"polynomials\":[1,2,3]},{\"coefficient\":9,\"polynomials\":[2,3]},{\"coefficient\":9,\"polynomials\":[1,3]},{\"coefficient\":-4,\"polynomials\":[3]},{\"coefficient\":-1,\"polynomials\":[]}]}'"
   ]
  },
  {
   "cell_type": "code",
   "execution_count": 97,
   "id": "5afbf586",
   "metadata": {},
   "outputs": [
    {
     "name": "stdout",
     "output_type": "stream",
     "text": [
      "{\"terms\":[{\"coefficient\":-1,\"polynomials\":[]},{\"coefficient\":17,\"polynomials\":[1,2]},{\"coefficient\":9,\"polynomials\":[1,3]},{\"coefficient\":-34,\"polynomials\":[1,4]},{\"coefficient\":9,\"polynomials\":[2,3]},{\"coefficient\":-34,\"polynomials\":[2,4]},{\"coefficient\":-4,\"polynomials\":[3]},{\"coefficient\":-16,\"polynomials\":[3,4]},{\"coefficient\":51,\"polynomials\":[4]}]}\n"
     ]
    }
   ],
   "source": [
    "print(hobo2qubo(headers,data,H2Q))"
   ]
  },
  {
   "cell_type": "code",
   "execution_count": 98,
   "id": "854a4780",
   "metadata": {},
   "outputs": [],
   "source": [
    "term=hobo2qubo(headers,data,H2Q)"
   ]
  },
  {
   "cell_type": "code",
   "execution_count": 105,
   "id": "46700239",
   "metadata": {},
   "outputs": [],
   "source": [
    "data='{\"fujitsuDA2\": {\"expert_mode\": true,\"number_iterations\": 1000000,\"number_runs\": 16,\"offset_increase_rate\": 819,\"temperature_start\": 655,\"temperature_decay\": 0.0001,\"temperature_mode\": \"EXPONENTIAL\",\"temperature_interval\": 100},\"binary_polynomial\" :%s '%(term)"
   ]
  },
  {
   "cell_type": "code",
   "execution_count": 107,
   "id": "b622fa58",
   "metadata": {},
   "outputs": [
    {
     "data": {
      "text/plain": [
       "'{\"fujitsuDA2\": {\"expert_mode\": true,\"number_iterations\": 1000000,\"number_runs\": 16,\"offset_increase_rate\": 819,\"temperature_start\": 655,\"temperature_decay\": 0.0001,\"temperature_mode\": \"EXPONENTIAL\",\"temperature_interval\": 100},\"binary_polynomial\" :{\"terms\":[{\"coefficient\":-1,\"polynomials\":[]},{\"coefficient\":17,\"polynomials\":[1,2]},{\"coefficient\":9,\"polynomials\":[1,3]},{\"coefficient\":-34,\"polynomials\":[1,4]},{\"coefficient\":9,\"polynomials\":[2,3]},{\"coefficient\":-34,\"polynomials\":[2,4]},{\"coefficient\":-4,\"polynomials\":[3]},{\"coefficient\":-16,\"polynomials\":[3,4]},{\"coefficient\":51,\"polynomials\":[4]}]} '"
      ]
     },
     "execution_count": 107,
     "metadata": {},
     "output_type": "execute_result"
    }
   ],
   "source": [
    "data"
   ]
  },
  {
   "cell_type": "code",
   "execution_count": 108,
   "id": "c942f0a9",
   "metadata": {},
   "outputs": [
    {
     "data": {
      "text/plain": [
       "'{\"error\":{\"code\":\"403\",\"title\":\"Forbidden\",\"message\":\"Forbidden Method or Uri.\"}}'"
      ]
     },
     "execution_count": 108,
     "metadata": {},
     "output_type": "execute_result"
    }
   ],
   "source": [
    "solve(headers,data)"
   ]
  },
  {
   "cell_type": "markdown",
   "id": "1b4fa85a",
   "metadata": {},
   "source": [
    "# NUMBER PARTITION PROBLEM"
   ]
  },
  {
   "cell_type": "markdown",
   "id": "4d1bd33c",
   "metadata": {},
   "source": [
    "{25,7,13,31,42,17,21,10}"
   ]
  },
  {
   "cell_type": "code",
   "execution_count": 110,
   "id": "f89db6cd",
   "metadata": {},
   "outputs": [],
   "source": [
    "Set =[25,7,13,31,42,17,21,10]\n",
    "c=sum(Set)\n"
   ]
  },
  {
   "cell_type": "code",
   "execution_count": 123,
   "id": "40f250e0",
   "metadata": {},
   "outputs": [
    {
     "data": {
      "text/plain": [
       "[{'coefficient': 25, 'polynomials': [0]},\n",
       " {'coefficient': 7, 'polynomials': [1]},\n",
       " {'coefficient': 13, 'polynomials': [2]},\n",
       " {'coefficient': 31, 'polynomials': [3]},\n",
       " {'coefficient': 42, 'polynomials': [4]},\n",
       " {'coefficient': 17, 'polynomials': [5]},\n",
       " {'coefficient': 21, 'polynomials': [6]},\n",
       " {'coefficient': 10, 'polynomials': [7]}]"
      ]
     },
     "execution_count": 123,
     "metadata": {},
     "output_type": "execute_result"
    }
   ],
   "source": [
    "x=[]\n",
    "for i in range(len(Set)):\n",
    "    x.append({\"coefficient\": Set[i],\"polynomials\": [i]})\n",
    "    \n",
    "x"
   ]
  },
  {
   "cell_type": "code",
   "execution_count": 125,
   "id": "3129db60",
   "metadata": {},
   "outputs": [],
   "source": [
    "data= '{\"terms\": %s}'%(x)\n",
    "Numb_Partition='{\"fujitsuDA2\": {\"expert_mode\": true,\"number_iterations\": 1000000,\"number_runs\": 16,\"offset_increase_rate\": 819,\"temperature_start\": 655,\"temperature_decay\": 0.0001,\"temperature_mode\": \"EXPONENTIAL\",\"temperature_interval\": 100},\"binary_polynomial\" :%s '%(data)"
   ]
  },
  {
   "cell_type": "code",
   "execution_count": 126,
   "id": "3e04f5cb",
   "metadata": {},
   "outputs": [
    {
     "data": {
      "text/plain": [
       "'{\"fujitsuDA2\": {\"expert_mode\": true,\"number_iterations\": 1000000,\"number_runs\": 16,\"offset_increase_rate\": 819,\"temperature_start\": 655,\"temperature_decay\": 0.0001,\"temperature_mode\": \"EXPONENTIAL\",\"temperature_interval\": 100},\"binary_polynomial\" :{\"terms\": [{\\'coefficient\\': 25, \\'polynomials\\': [0]}, {\\'coefficient\\': 7, \\'polynomials\\': [1]}, {\\'coefficient\\': 13, \\'polynomials\\': [2]}, {\\'coefficient\\': 31, \\'polynomials\\': [3]}, {\\'coefficient\\': 42, \\'polynomials\\': [4]}, {\\'coefficient\\': 17, \\'polynomials\\': [5]}, {\\'coefficient\\': 21, \\'polynomials\\': [6]}, {\\'coefficient\\': 10, \\'polynomials\\': [7]}]} '"
      ]
     },
     "execution_count": 126,
     "metadata": {},
     "output_type": "execute_result"
    }
   ],
   "source": [
    "Numb_Partition"
   ]
  },
  {
   "cell_type": "code",
   "execution_count": 127,
   "id": "76681516",
   "metadata": {},
   "outputs": [
    {
     "data": {
      "text/plain": [
       "'{\"terms\": [{\\'coefficient\\': 25, \\'polynomials\\': [0]}, {\\'coefficient\\': 7, \\'polynomials\\': [1]}, {\\'coefficient\\': 13, \\'polynomials\\': [2]}, {\\'coefficient\\': 31, \\'polynomials\\': [3]}, {\\'coefficient\\': 42, \\'polynomials\\': [4]}, {\\'coefficient\\': 17, \\'polynomials\\': [5]}, {\\'coefficient\\': 21, \\'polynomials\\': [6]}, {\\'coefficient\\': 10, \\'polynomials\\': [7]}]}'"
      ]
     },
     "execution_count": 127,
     "metadata": {},
     "output_type": "execute_result"
    }
   ],
   "source": [
    "data"
   ]
  },
  {
   "cell_type": "markdown",
   "id": "a5a1a7df",
   "metadata": {},
   "source": [
    "# MAX-CUT PROBLEM"
   ]
  },
  {
   "cell_type": "code",
   "execution_count": 133,
   "id": "05648e2e",
   "metadata": {},
   "outputs": [],
   "source": [
    "N_ver = 5\n",
    "N_edge=6\n",
    "graph = [(1,2),(2,4),(3,4),(3,1),(3,5),(4,5)]"
   ]
  },
  {
   "cell_type": "code",
   "execution_count": 134,
   "id": "6cea41b3",
   "metadata": {},
   "outputs": [
    {
     "data": {
      "text/plain": [
       "[{'coefficient': -1, 'polynomials': [1]},\n",
       " {'coefficient': -1, 'polynomials': [2]},\n",
       " {'coefficient': 2, 'polynomials': [1, 2]},\n",
       " {'coefficient': -1, 'polynomials': [2]},\n",
       " {'coefficient': -1, 'polynomials': [4]},\n",
       " {'coefficient': 2, 'polynomials': [2, 4]},\n",
       " {'coefficient': -1, 'polynomials': [3]},\n",
       " {'coefficient': -1, 'polynomials': [4]},\n",
       " {'coefficient': 2, 'polynomials': [3, 4]},\n",
       " {'coefficient': -1, 'polynomials': [3]},\n",
       " {'coefficient': -1, 'polynomials': [1]},\n",
       " {'coefficient': 2, 'polynomials': [3, 1]},\n",
       " {'coefficient': -1, 'polynomials': [3]},\n",
       " {'coefficient': -1, 'polynomials': [5]},\n",
       " {'coefficient': 2, 'polynomials': [3, 5]},\n",
       " {'coefficient': -1, 'polynomials': [4]},\n",
       " {'coefficient': -1, 'polynomials': [5]},\n",
       " {'coefficient': 2, 'polynomials': [4, 5]}]"
      ]
     },
     "execution_count": 134,
     "metadata": {},
     "output_type": "execute_result"
    }
   ],
   "source": [
    "x=[]\n",
    "for i in range(len(graph)):\n",
    "    x.append({\"coefficient\":-1,\"polynomials\": [graph[i][0]]})\n",
    "    x.append({\"coefficient\":-1,\"polynomials\": [graph[i][1]]})\n",
    "    x.append({\"coefficient\": 2,\"polynomials\":[graph[i][0],graph[i][1]]})\n",
    "x"
   ]
  },
  {
   "cell_type": "code",
   "execution_count": 135,
   "id": "7a9557db",
   "metadata": {},
   "outputs": [],
   "source": [
    "data= '{\"terms\": %s}'%(x)\n",
    "max_cut='{\"fujitsuDA2\": {\"expert_mode\": true,\"number_iterations\": 1000000,\"number_runs\": 16,\"offset_increase_rate\": 819,\"temperature_start\": 655,\"temperature_decay\": 0.0001,\"temperature_mode\": \"EXPONENTIAL\",\"temperature_interval\": 100},\"binary_polynomial\" :%s '%(data)"
   ]
  },
  {
   "cell_type": "code",
   "execution_count": 136,
   "id": "0eba3c9e",
   "metadata": {},
   "outputs": [
    {
     "data": {
      "text/plain": [
       "'{\"fujitsuDA2\": {\"expert_mode\": true,\"number_iterations\": 1000000,\"number_runs\": 16,\"offset_increase_rate\": 819,\"temperature_start\": 655,\"temperature_decay\": 0.0001,\"temperature_mode\": \"EXPONENTIAL\",\"temperature_interval\": 100},\"binary_polynomial\" :{\"terms\": [{\\'coefficient\\': -1, \\'polynomials\\': [1]}, {\\'coefficient\\': -1, \\'polynomials\\': [2]}, {\\'coefficient\\': 2, \\'polynomials\\': [1, 2]}, {\\'coefficient\\': -1, \\'polynomials\\': [2]}, {\\'coefficient\\': -1, \\'polynomials\\': [4]}, {\\'coefficient\\': 2, \\'polynomials\\': [2, 4]}, {\\'coefficient\\': -1, \\'polynomials\\': [3]}, {\\'coefficient\\': -1, \\'polynomials\\': [4]}, {\\'coefficient\\': 2, \\'polynomials\\': [3, 4]}, {\\'coefficient\\': -1, \\'polynomials\\': [3]}, {\\'coefficient\\': -1, \\'polynomials\\': [1]}, {\\'coefficient\\': 2, \\'polynomials\\': [3, 1]}, {\\'coefficient\\': -1, \\'polynomials\\': [3]}, {\\'coefficient\\': -1, \\'polynomials\\': [5]}, {\\'coefficient\\': 2, \\'polynomials\\': [3, 5]}, {\\'coefficient\\': -1, \\'polynomials\\': [4]}, {\\'coefficient\\': -1, \\'polynomials\\': [5]}, {\\'coefficient\\': 2, \\'polynomials\\': [4, 5]}]} '"
      ]
     },
     "execution_count": 136,
     "metadata": {},
     "output_type": "execute_result"
    }
   ],
   "source": [
    "max_cut"
   ]
  },
  {
   "cell_type": "code",
   "execution_count": null,
   "id": "2028f5c2",
   "metadata": {},
   "outputs": [],
   "source": []
  },
  {
   "cell_type": "code",
   "execution_count": null,
   "id": "588704c7",
   "metadata": {},
   "outputs": [],
   "source": []
  },
  {
   "cell_type": "code",
   "execution_count": null,
   "id": "c771d9a0",
   "metadata": {},
   "outputs": [],
   "source": []
  },
  {
   "cell_type": "markdown",
   "id": "b2462d33",
   "metadata": {},
   "source": [
    "# Minimum Vertex Cover "
   ]
  },
  {
   "cell_type": "code",
   "execution_count": 138,
   "id": "a58f4f3a",
   "metadata": {},
   "outputs": [],
   "source": [
    "N_ver = 5\n",
    "N_edge=6\n",
    "graph = [(1,2),(2,4),(3,4),(3,1),(3,5),(4,5)]"
   ]
  },
  {
   "cell_type": "code",
   "execution_count": 140,
   "id": "d6690881",
   "metadata": {},
   "outputs": [
    {
     "data": {
      "text/plain": [
       "[{'coefficient': 1, 'polynomials': [0]},\n",
       " {'coefficient': 1, 'polynomials': [1]},\n",
       " {'coefficient': 1, 'polynomials': [2]},\n",
       " {'coefficient': 1, 'polynomials': [3]},\n",
       " {'coefficient': 1, 'polynomials': [4]},\n",
       " {'coefficient': 1000, 'polynomials': []},\n",
       " {'coefficient': -1000, 'polynomials': [1]},\n",
       " {'coefficient': -1000, 'polynomials': [2]},\n",
       " {'coefficient': 2000, 'polynomials': [1, 2]},\n",
       " {'coefficient': 1000, 'polynomials': []},\n",
       " {'coefficient': -1000, 'polynomials': [2]},\n",
       " {'coefficient': -1000, 'polynomials': [4]},\n",
       " {'coefficient': 2000, 'polynomials': [2, 4]},\n",
       " {'coefficient': 1000, 'polynomials': []},\n",
       " {'coefficient': -1000, 'polynomials': [3]},\n",
       " {'coefficient': -1000, 'polynomials': [4]},\n",
       " {'coefficient': 2000, 'polynomials': [3, 4]},\n",
       " {'coefficient': 1000, 'polynomials': []},\n",
       " {'coefficient': -1000, 'polynomials': [3]},\n",
       " {'coefficient': -1000, 'polynomials': [1]},\n",
       " {'coefficient': 2000, 'polynomials': [3, 1]},\n",
       " {'coefficient': 1000, 'polynomials': []},\n",
       " {'coefficient': -1000, 'polynomials': [3]},\n",
       " {'coefficient': -1000, 'polynomials': [5]},\n",
       " {'coefficient': 2000, 'polynomials': [3, 5]},\n",
       " {'coefficient': 1000, 'polynomials': []},\n",
       " {'coefficient': -1000, 'polynomials': [4]},\n",
       " {'coefficient': -1000, 'polynomials': [5]},\n",
       " {'coefficient': 2000, 'polynomials': [4, 5]}]"
      ]
     },
     "execution_count": 140,
     "metadata": {},
     "output_type": "execute_result"
    }
   ],
   "source": [
    "x=[]\n",
    "for i in range(N_ver):\n",
    "    x.append({\"coefficient\":1,\"polynomials\": [i]})\n",
    "\n",
    "P = 1000\n",
    "for i in range(len(graph)):\n",
    "    x.append({\"coefficient\":1*P,\"polynomials\": []})\n",
    "    x.append({\"coefficient\":-1*P,\"polynomials\": [graph[i][0]]})\n",
    "    x.append({\"coefficient\":-1*P,\"polynomials\": [graph[i][1]]})\n",
    "    x.append({\"coefficient\": 2*P,\"polynomials\":[graph[i][0],graph[i][1]]})\n",
    "x"
   ]
  },
  {
   "cell_type": "markdown",
   "id": "f125c1a6",
   "metadata": {},
   "source": [
    "# Set Packing Problem"
   ]
  },
  {
   "cell_type": "markdown",
   "id": "6a853bb5",
   "metadata": {},
   "source": [
    "max x_1 + x_2 + x_3 + x_4 \n",
    "such that\n",
    "x_1 +     x_3 + x_4 <= 1\n",
    "x_1 + x_2           <= 1\n"
   ]
  },
  {
   "cell_type": "code",
   "execution_count": 143,
   "id": "9c7545b1",
   "metadata": {},
   "outputs": [],
   "source": [
    "P=6\n",
    "data = {\"terms\":[{\"coefficient\":-1,\"polynomials\":[1]},{\"coefficient\":-1,\"polynomials\":[2]},{\"coefficient\":-1,\"polynomials\":[3]},{\"coefficient\":-1,\"polynomials\":[4]},{\"coefficient\":1*P,\"polynomials\":[1,3]},{\"coefficient\":1*P,\"polynomials\":[1,4]},{\"coefficient\":1*P,\"polynomials\":[3,4]},{\"coefficient\":1*P,\"polynomials\":[1,2]}]}"
   ]
  },
  {
   "cell_type": "code",
   "execution_count": 144,
   "id": "546aafb7",
   "metadata": {},
   "outputs": [
    {
     "data": {
      "text/plain": [
       "{'terms': [{'coefficient': -1, 'polynomials': [1]},\n",
       "  {'coefficient': -1, 'polynomials': [2]},\n",
       "  {'coefficient': -1, 'polynomials': [3]},\n",
       "  {'coefficient': -1, 'polynomials': [4]},\n",
       "  {'coefficient': 6, 'polynomials': [1, 3]},\n",
       "  {'coefficient': 6, 'polynomials': [1, 4]},\n",
       "  {'coefficient': 6, 'polynomials': [3, 4]},\n",
       "  {'coefficient': 6, 'polynomials': [1, 2]}]}"
      ]
     },
     "execution_count": 144,
     "metadata": {},
     "output_type": "execute_result"
    }
   ],
   "source": [
    "data"
   ]
  },
  {
   "cell_type": "markdown",
   "id": "505716dd",
   "metadata": {},
   "source": [
    "# Max 2-SAT Problem"
   ]
  },
  {
   "cell_type": "code",
   "execution_count": null,
   "id": "9b37eef4",
   "metadata": {},
   "outputs": [],
   "source": []
  },
  {
   "cell_type": "code",
   "execution_count": 146,
   "id": "7228baa9",
   "metadata": {},
   "outputs": [
    {
     "data": {
      "text/plain": [
       "{'terms': [{'coefficient': 1, 'polynomials': [1]},\n",
       "  {'coefficient': -2, 'polynomials': [4]},\n",
       "  {'coefficient': -1, 'polynomials': [2, 3]},\n",
       "  {'coefficient': 1, 'polynomials': [2, 4]},\n",
       "  {'coefficient': 2, 'polynomials': [3, 4]},\n",
       "  {'coefficient': 6, 'polynomials': [1, 4]},\n",
       "  {'coefficient': 3, 'polynomials': []}]}"
      ]
     },
     "execution_count": 146,
     "metadata": {},
     "output_type": "execute_result"
    }
   ],
   "source": [
    "data = {\"terms\":[{\"coefficient\":1,\"polynomials\":[1]},{\"coefficient\":-2,\"polynomials\":[4]},{\"coefficient\":-1,\"polynomials\":[2,3]},{\"coefficient\":1,\"polynomials\":[2,4]},{\"coefficient\":2,\"polynomials\":[3,4]},{\"coefficient\":1*P,\"polynomials\":[1,4]},{\"coefficient\":3,\"polynomials\":[]}]}\n",
    "data\n"
   ]
  },
  {
   "cell_type": "code",
   "execution_count": null,
   "id": "c645022c",
   "metadata": {},
   "outputs": [],
   "source": []
  },
  {
   "cell_type": "code",
   "execution_count": null,
   "id": "3ce86619",
   "metadata": {},
   "outputs": [],
   "source": []
  },
  {
   "cell_type": "markdown",
   "id": "cec4eed5",
   "metadata": {},
   "source": [
    "# Set Partition Problem"
   ]
  },
  {
   "cell_type": "code",
   "execution_count": 147,
   "id": "b8ab8205",
   "metadata": {},
   "outputs": [
    {
     "data": {
      "text/plain": [
       "{'terms': [{'coefficient': -17, 'polynomials': [1, 1]},\n",
       "  {'coefficient': -18, 'polynomials': [2, 2]},\n",
       "  {'coefficient': -29, 'polynomials': [3, 3]},\n",
       "  {'coefficient': -19, 'polynomials': [4, 4]},\n",
       "  {'coefficient': -17, 'polynomials': [5, 5]},\n",
       "  {'coefficient': -28, 'polynomials': [6, 6]},\n",
       "  {'coefficient': 20, 'polynomials': [1, 2]},\n",
       "  {'coefficient': 20, 'polynomials': [1, 3]},\n",
       "  {'coefficient': 20, 'polynomials': [1, 4]},\n",
       "  {'coefficient': 40, 'polynomials': [1, 6]},\n",
       "  {'coefficient': 20, 'polynomials': [2, 3]},\n",
       "  {'coefficient': 20, 'polynomials': [2, 4]},\n",
       "  {'coefficient': 20, 'polynomials': [2, 5]},\n",
       "  {'coefficient': 40, 'polynomials': [2, 6]},\n",
       "  {'coefficient': 20, 'polynomials': [3, 4]},\n",
       "  {'coefficient': 40, 'polynomials': [3, 5]},\n",
       "  {'coefficient': 40, 'polynomials': [3, 6]},\n",
       "  {'coefficient': 20, 'polynomials': [4, 5]},\n",
       "  {'coefficient': 20, 'polynomials': [4, 6]},\n",
       "  {'coefficient': 20, 'polynomials': [5, 6]},\n",
       "  {'coefficient': 40, 'polynomials': []}]}"
      ]
     },
     "execution_count": 147,
     "metadata": {},
     "output_type": "execute_result"
    }
   ],
   "source": [
    "data = {\"terms\":[{\"coefficient\":-17,\"polynomials\":[1,1]},{\"coefficient\":-18,\"polynomials\":[2,2]},{\"coefficient\":-29,\"polynomials\":[3,3]},{\"coefficient\":-19,\"polynomials\":[4,4]},{\"coefficient\":-17,\"polynomials\":[5,5]},{\"coefficient\":-28,\"polynomials\":[6,6]},{\"coefficient\":20,\"polynomials\":[1,2]},{\"coefficient\":20,\"polynomials\":[1,3]},{\"coefficient\":20,\"polynomials\":[1,4]},{\"coefficient\":40,\"polynomials\":[1,6]},{\"coefficient\":20,\"polynomials\":[2,3]},{\"coefficient\":20,\"polynomials\":[2,4]},{\"coefficient\":20,\"polynomials\":[2,5]},{\"coefficient\":40,\"polynomials\":[2,6]},{\"coefficient\":20,\"polynomials\":[3,4]},{\"coefficient\":40,\"polynomials\":[3,5]},{\"coefficient\":40,\"polynomials\":[3,6]},{\"coefficient\":20,\"polynomials\":[4,5]},{\"coefficient\":20,\"polynomials\":[4,6]},{\"coefficient\":20,\"polynomials\":[5,6]},{\"coefficient\":40,\"polynomials\":[]}]}\n",
    "data"
   ]
  },
  {
   "cell_type": "markdown",
   "id": "488cbb63",
   "metadata": {},
   "source": [
    "# General 0/1 Programming"
   ]
  },
  {
   "cell_type": "code",
   "execution_count": null,
   "id": "7f92626b",
   "metadata": {},
   "outputs": [],
   "source": []
  },
  {
   "cell_type": "code",
   "execution_count": 149,
   "id": "b5f7a5b1",
   "metadata": {},
   "outputs": [
    {
     "data": {
      "text/plain": [
       "{'fujitsuDA3': {'time_limit_sec': 5,\n",
       "  'two_way_one_hot_groups': {'numbers': [4]},\n",
       "  'penalty_coef': 10000},\n",
       " 'binary_polynomial': {'terms': [{'coefficient': -6, 'polynomials': [1]},\n",
       "   {'coefficient': -4, 'polynomials': [2]},\n",
       "   {'coefficient': -8, 'polynomials': [3]},\n",
       "   {'coefficient': -5, 'polynomials': [4]},\n",
       "   {'coefficient': -5, 'polynomials': [5]}]},\n",
       " 'penalty_binary_polynomial': {'terms': [{'coefficient': 1,\n",
       "    'polynomials': [1]},\n",
       "   {'coefficient': 2, 'polynomials': [2]},\n",
       "   {'coefficient': 2, 'polynomials': [3]},\n",
       "   {'coefficient': 1, 'polynomials': [4]},\n",
       "   {'coefficient': 2, 'polynomials': [5]},\n",
       "   {'coefficient': -4, 'polynomials': []}]},\n",
       " 'inequalities': [{'terms': [{'coefficient': 2, 'polynomials': [1]},\n",
       "    {'coefficient': 2, 'polynomials': [2]},\n",
       "    {'coefficient': 4, 'polynomials': [3]},\n",
       "    {'coefficient': 3, 'polynomials': [4]},\n",
       "    {'coefficient': 3, 'polynomials': [4]},\n",
       "    {'coefficient': 2, 'polynomials': [5]},\n",
       "    {'coefficient': -7, 'polynomials': []}],\n",
       "   'lambda': 1},\n",
       "  {'terms': [{'coefficient': -3, 'polynomials': [1]},\n",
       "    {'coefficient': -3, 'polynomials': [2]},\n",
       "    {'coefficient': -2, 'polynomials': [3]},\n",
       "    {'coefficient': -4, 'polynomials': [4]},\n",
       "    {'coefficient': -4, 'polynomials': [5]},\n",
       "    {'coefficient': 5, 'polynomials': []}]}]}"
      ]
     },
     "execution_count": 149,
     "metadata": {},
     "output_type": "execute_result"
    }
   ],
   "source": [
    "{\n",
    "  \"fujitsuDA3\": {\n",
    "    \"time_limit_sec\": 5,\n",
    "    \"two_way_one_hot_groups\": {\n",
    "      \"numbers\": [\n",
    "        4\n",
    "      ]\n",
    "    },\n",
    "    \"penalty_coef\": 10000\n",
    "  },\n",
    "  \"binary_polynomial\": {\n",
    "    \"terms\": [\n",
    "      {\n",
    "        \"coefficient\": -6,\n",
    "        \"polynomials\": [\n",
    "          1\n",
    "        ]\n",
    "      },\n",
    "      {\n",
    "        \"coefficient\": -4,\n",
    "        \"polynomials\": [\n",
    "          2\n",
    "        ]\n",
    "      },\n",
    "      {\n",
    "        \"coefficient\": -8,\n",
    "        \"polynomials\": [\n",
    "          3\n",
    "        ]\n",
    "      },\n",
    "      {\n",
    "        \"coefficient\": -5,\n",
    "        \"polynomials\": [\n",
    "          4\n",
    "        ]\n",
    "      },\n",
    "      {\n",
    "        \"coefficient\": -5,\n",
    "        \"polynomials\": [\n",
    "          5\n",
    "        ]\n",
    "      }\n",
    "    ]\n",
    "  },\n",
    "  \"penalty_binary_polynomial\": {\n",
    "    \"terms\": [\n",
    "      {\n",
    "        \"coefficient\": 1,\n",
    "        \"polynomials\": [\n",
    "          1\n",
    "        ]\n",
    "      },\n",
    "      {\n",
    "        \"coefficient\": 2,\n",
    "        \"polynomials\": [\n",
    "          2\n",
    "        ]\n",
    "      },\n",
    "      {\n",
    "        \"coefficient\": 2,\n",
    "        \"polynomials\": [\n",
    "          3\n",
    "        ]\n",
    "      },\n",
    "      {\n",
    "        \"coefficient\": 1,\n",
    "        \"polynomials\": [\n",
    "          4\n",
    "        ]\n",
    "      },\n",
    "      {\n",
    "        \"coefficient\": 2,\n",
    "        \"polynomials\": [\n",
    "          5\n",
    "        ]\n",
    "      },\n",
    "      {\n",
    "        \"coefficient\": -4,\n",
    "        \"polynomials\": [\n",
    "          \n",
    "        ]\n",
    "      }\n",
    "    ]\n",
    "  },\n",
    "  \"inequalities\": [\n",
    "    {\n",
    "      \"terms\": [\n",
    "        {\n",
    "          \"coefficient\": 2,\n",
    "          \"polynomials\": [\n",
    "            1\n",
    "          ]\n",
    "        },\n",
    "        {\n",
    "          \"coefficient\": 2,\n",
    "          \"polynomials\": [\n",
    "            2\n",
    "          ]\n",
    "        },\n",
    "        {\n",
    "          \"coefficient\": 4,\n",
    "          \"polynomials\": [\n",
    "              3\n",
    "          ]\n",
    "        },\n",
    "        {\n",
    "          \"coefficient\": 3,\n",
    "          \"polynomials\": [\n",
    "              4\n",
    "          ]\n",
    "        },\n",
    "        {\n",
    "          \"coefficient\": 3,\n",
    "          \"polynomials\": [\n",
    "              4\n",
    "          ]\n",
    "        },\n",
    "        {\n",
    "          \"coefficient\": 2,\n",
    "          \"polynomials\": [\n",
    "              5\n",
    "          ]\n",
    "        },\n",
    "        {\n",
    "          \"coefficient\": -7,\n",
    "          \"polynomials\": [\n",
    "              \n",
    "          ]\n",
    "        }  \n",
    "      ],\n",
    "      \"lambda\": 1\n",
    "    },\n",
    "    {\n",
    "      \"terms\": [\n",
    "        {\n",
    "          \"coefficient\": -3,\n",
    "          \"polynomials\": [\n",
    "            1\n",
    "          ]\n",
    "        },\n",
    "        {\n",
    "          \"coefficient\": -3,\n",
    "          \"polynomials\": [\n",
    "            2\n",
    "          ]\n",
    "        },\n",
    "        {\n",
    "          \"coefficient\": -2,\n",
    "          \"polynomials\": [\n",
    "            3\n",
    "          ]\n",
    "        },\n",
    "        {\n",
    "          \"coefficient\": -4,\n",
    "          \"polynomials\": [\n",
    "              4\n",
    "          ]\n",
    "        },\n",
    "        {\n",
    "          \"coefficient\": -4,\n",
    "          \"polynomials\": [\n",
    "              5\n",
    "          ]\n",
    "        },\n",
    "        {\n",
    "          \"coefficient\": 5,\n",
    "          \"polynomials\": [\n",
    "              \n",
    "          ]\n",
    "        }  \n",
    "          \n",
    "      ]\n",
    "    }\n",
    "  ]\n",
    "}"
   ]
  },
  {
   "cell_type": "code",
   "execution_count": null,
   "id": "b8ec37b9",
   "metadata": {},
   "outputs": [],
   "source": []
  },
  {
   "cell_type": "markdown",
   "id": "e7cbd64c",
   "metadata": {},
   "source": [
    "# Quadratic Assignment"
   ]
  },
  {
   "cell_type": "code",
   "execution_count": null,
   "id": "fe185a99",
   "metadata": {},
   "outputs": [],
   "source": []
  },
  {
   "cell_type": "code",
   "execution_count": 150,
   "id": "a6ef2160",
   "metadata": {},
   "outputs": [
    {
     "data": {
      "text/plain": [
       "{'fujitsuDA3': {'time_limit_sec': 5,\n",
       "  'two_way_one_hot_groups': {'numbers': [4]},\n",
       "  'penalty_coef': 10000},\n",
       " 'binary_polynomial': {'terms': [{'coefficient': 80, 'polynomials': [1, 5]},\n",
       "   {'coefficient': 150, 'polynomials': [1, 6]},\n",
       "   {'coefficient': 32, 'polynomials': [1, 8]},\n",
       "   {'coefficient': 60, 'polynomials': [1, 9]},\n",
       "   {'coefficient': 80, 'polynomials': [2, 4]},\n",
       "   {'coefficient': 130, 'polynomials': [2, 6]},\n",
       "   {'coefficient': 60, 'polynomials': [2, 7]},\n",
       "   {'coefficient': 52, 'polynomials': [2, 9]},\n",
       "   {'coefficient': 150, 'polynomials': [3, 4]},\n",
       "   {'coefficient': 130, 'polynomials': [3, 5]},\n",
       "   {'coefficient': 60, 'polynomials': [3, 7]},\n",
       "   {'coefficient': 52, 'polynomials': [3, 8]},\n",
       "   {'coefficient': 48, 'polynomials': [4, 8]},\n",
       "   {'coefficient': 90, 'polynomials': [4, 9]},\n",
       "   {'coefficient': 78, 'polynomials': [5, 9]},\n",
       "   {'coefficient': 78, 'polynomials': [6, 8]}]},\n",
       " 'penalty_binary_polynomial': [{'terms': [{'coefficient': 1,\n",
       "     'polynomials': [1]},\n",
       "    {'coefficient': 1, 'polynomials': [2]},\n",
       "    {'coefficient': 1, 'polynomials': [3]},\n",
       "    {'coefficient': -1, 'polynomials': []}],\n",
       "   'lambda': 1},\n",
       "  {'terms': [{'coefficient': 1, 'polynomials': [4]},\n",
       "    {'coefficient': 1, 'polynomials': [5]},\n",
       "    {'coefficient': 1, 'polynomials': [6]},\n",
       "    {'coefficient': -1, 'polynomials': []}],\n",
       "   'lambda': 2},\n",
       "  {'terms': [{'coefficient': 1, 'polynomials': [7]},\n",
       "    {'coefficient': 1, 'polynomials': [8]},\n",
       "    {'coefficient': 1, 'polynomials': [9]},\n",
       "    {'coefficient': -1, 'polynomials': []}],\n",
       "   'lambda': 3},\n",
       "  {'terms': [{'coefficient': 1, 'polynomials': [1]},\n",
       "    {'coefficient': 1, 'polynomials': [4]},\n",
       "    {'coefficient': 1, 'polynomials': [7]},\n",
       "    {'coefficient': -1, 'polynomials': []}],\n",
       "   'lambda': 4},\n",
       "  {'terms': [{'coefficient': 1, 'polynomials': [2]},\n",
       "    {'coefficient': 1, 'polynomials': [5]},\n",
       "    {'coefficient': 1, 'polynomials': [8]},\n",
       "    {'coefficient': -1, 'polynomials': []}],\n",
       "   'lambda': 5},\n",
       "  {'terms': [{'coefficient': 1, 'polynomials': [3]},\n",
       "    {'coefficient': 1, 'polynomials': [6]},\n",
       "    {'coefficient': 1, 'polynomials': [9]},\n",
       "    {'coefficient': -1, 'polynomials': []}],\n",
       "   'lambda': 6}]}"
      ]
     },
     "execution_count": 150,
     "metadata": {},
     "output_type": "execute_result"
    }
   ],
   "source": [
    "{\n",
    "  \"fujitsuDA3\": {\n",
    "    \"time_limit_sec\": 5,\n",
    "    \"two_way_one_hot_groups\": {\n",
    "      \"numbers\": [\n",
    "        4\n",
    "      ]\n",
    "    },\n",
    "    \"penalty_coef\": 10000\n",
    "  },\n",
    "  \"binary_polynomial\": {\n",
    "    \"terms\": [\n",
    "      {\n",
    "        \"coefficient\": 80,\n",
    "        \"polynomials\": [\n",
    "          1,\n",
    "          5  \n",
    "        ]\n",
    "      },\n",
    "      {\n",
    "        \"coefficient\": 150,\n",
    "        \"polynomials\": [\n",
    "          1,\n",
    "          6  \n",
    "        ]\n",
    "      },\n",
    "      {\n",
    "        \"coefficient\": 32,\n",
    "        \"polynomials\": [\n",
    "          1,\n",
    "          8  \n",
    "        ]\n",
    "      },\n",
    "      {\n",
    "        \"coefficient\": 60,\n",
    "        \"polynomials\": [\n",
    "          1,\n",
    "          9  \n",
    "        ]\n",
    "      },\n",
    "      {\n",
    "        \"coefficient\": 80,\n",
    "        \"polynomials\": [\n",
    "          2,\n",
    "          4\n",
    "        ]\n",
    "      },\n",
    "      {\n",
    "        \"coefficient\": 130,\n",
    "        \"polynomials\": [\n",
    "          2,\n",
    "          6  \n",
    "        ]\n",
    "      },\n",
    "      {\n",
    "        \"coefficient\": 60,\n",
    "        \"polynomials\": [\n",
    "          2,\n",
    "          7  \n",
    "        ]\n",
    "      },\n",
    "      {\n",
    "        \"coefficient\": 52,\n",
    "        \"polynomials\": [\n",
    "          2,\n",
    "          9  \n",
    "        ]\n",
    "      },\n",
    "      {\n",
    "        \"coefficient\": 150,\n",
    "        \"polynomials\": [\n",
    "          3,\n",
    "          4  \n",
    "        ]\n",
    "      },\n",
    "      {\n",
    "        \"coefficient\": 130,\n",
    "        \"polynomials\": [\n",
    "          3,\n",
    "          5  \n",
    "        ]\n",
    "      },\n",
    "      {\n",
    "        \"coefficient\": 60,\n",
    "        \"polynomials\": [\n",
    "          3,\n",
    "          7  \n",
    "        ]\n",
    "      },\n",
    "      {\n",
    "        \"coefficient\": 52,\n",
    "        \"polynomials\": [\n",
    "          3,\n",
    "          8  \n",
    "        ]\n",
    "      },\n",
    "      {\n",
    "        \"coefficient\": 48,\n",
    "        \"polynomials\": [\n",
    "          4,\n",
    "          8  \n",
    "        ]\n",
    "      },\n",
    "      {\n",
    "        \"coefficient\": 90,\n",
    "        \"polynomials\": [\n",
    "          4,\n",
    "          9  \n",
    "        ]\n",
    "      },\n",
    "      {\n",
    "        \"coefficient\": 78,\n",
    "        \"polynomials\": [\n",
    "          5,\n",
    "          9  \n",
    "        ]\n",
    "      },\n",
    "      {\n",
    "        \"coefficient\": 78,\n",
    "        \"polynomials\": [\n",
    "          6,\n",
    "          8  \n",
    "        ]\n",
    "      }  \n",
    "    ]\n",
    "  },\n",
    "  \"penalty_binary_polynomial\": [{\n",
    "    \"terms\": [\n",
    "      {\n",
    "        \"coefficient\": 1,\n",
    "        \"polynomials\": [\n",
    "          1\n",
    "        ]\n",
    "      },\n",
    "      {\n",
    "        \"coefficient\": 1,\n",
    "        \"polynomials\": [\n",
    "          2\n",
    "        ]\n",
    "      },\n",
    "      {\n",
    "        \"coefficient\": 1,\n",
    "        \"polynomials\": [\n",
    "          3\n",
    "        ]\n",
    "      },\n",
    "      {\n",
    "        \"coefficient\": -1,\n",
    "        \"polynomials\": [\n",
    "          \n",
    "        ]\n",
    "      },\n",
    "    ],\n",
    "    \"lambda\": 1  \n",
    "  },\n",
    "  {\n",
    "    \"terms\": [\n",
    "      {\n",
    "        \"coefficient\": 1,\n",
    "        \"polynomials\": [\n",
    "          4\n",
    "        ]\n",
    "      },\n",
    "      {\n",
    "        \"coefficient\": 1,\n",
    "        \"polynomials\": [\n",
    "          5\n",
    "        ]\n",
    "      },\n",
    "      {\n",
    "        \"coefficient\": 1,\n",
    "        \"polynomials\": [\n",
    "          6\n",
    "        ]\n",
    "      },\n",
    "      {\n",
    "        \"coefficient\": -1,\n",
    "        \"polynomials\": [\n",
    "          \n",
    "        ]\n",
    "      },\n",
    "    ],\n",
    "    \"lambda\": 2  \n",
    "  },\n",
    "  {\n",
    "    \"terms\": [\n",
    "      {\n",
    "        \"coefficient\": 1,\n",
    "        \"polynomials\": [\n",
    "          7\n",
    "        ]\n",
    "      },\n",
    "      {\n",
    "        \"coefficient\": 1,\n",
    "        \"polynomials\": [\n",
    "          8\n",
    "        ]\n",
    "      },\n",
    "      {\n",
    "        \"coefficient\": 1,\n",
    "        \"polynomials\": [\n",
    "          9\n",
    "        ]\n",
    "      },\n",
    "      {\n",
    "        \"coefficient\": -1,\n",
    "        \"polynomials\": [\n",
    "          \n",
    "        ]\n",
    "      },\n",
    "    ],\n",
    "    \"lambda\": 3  \n",
    "  },    \n",
    "  {\n",
    "    \"terms\": [\n",
    "      {\n",
    "        \"coefficient\": 1,\n",
    "        \"polynomials\": [\n",
    "          1\n",
    "        ]\n",
    "      },\n",
    "      {\n",
    "        \"coefficient\": 1,\n",
    "        \"polynomials\": [\n",
    "          4\n",
    "        ]\n",
    "      },\n",
    "      {\n",
    "        \"coefficient\": 1,\n",
    "        \"polynomials\": [\n",
    "          7\n",
    "        ]\n",
    "      },\n",
    "      {\n",
    "        \"coefficient\": -1,\n",
    "        \"polynomials\": [\n",
    "          \n",
    "        ]\n",
    "      },\n",
    "    ],\n",
    "    \"lambda\": 4  \n",
    "  },\n",
    "  {\n",
    "    \"terms\": [\n",
    "      {\n",
    "        \"coefficient\": 1,\n",
    "        \"polynomials\": [\n",
    "          2\n",
    "        ]\n",
    "      },\n",
    "      {\n",
    "        \"coefficient\": 1,\n",
    "        \"polynomials\": [\n",
    "          5\n",
    "        ]\n",
    "      },\n",
    "      {\n",
    "        \"coefficient\": 1,\n",
    "        \"polynomials\": [\n",
    "          8\n",
    "        ]\n",
    "      },\n",
    "      {\n",
    "        \"coefficient\": -1,\n",
    "        \"polynomials\": [\n",
    "          \n",
    "        ]\n",
    "      },\n",
    "    ],\n",
    "    \"lambda\": 5  \n",
    "  },\n",
    "  {\n",
    "    \"terms\": [\n",
    "      {\n",
    "        \"coefficient\": 1,\n",
    "        \"polynomials\": [\n",
    "          3\n",
    "        ]\n",
    "      },\n",
    "      {\n",
    "        \"coefficient\": 1,\n",
    "        \"polynomials\": [\n",
    "          6\n",
    "        ]\n",
    "      },\n",
    "      {\n",
    "        \"coefficient\": 1,\n",
    "        \"polynomials\": [\n",
    "          9\n",
    "        ]\n",
    "      },\n",
    "      {\n",
    "        \"coefficient\": -1,\n",
    "        \"polynomials\": [\n",
    "          \n",
    "        ]\n",
    "      },\n",
    "    ],\n",
    "    \"lambda\": 6  \n",
    "  }    \n",
    "  ]  \n",
    "  \n",
    "}"
   ]
  },
  {
   "cell_type": "code",
   "execution_count": null,
   "id": "5e7600bc",
   "metadata": {},
   "outputs": [],
   "source": []
  },
  {
   "cell_type": "code",
   "execution_count": null,
   "id": "61b3d9a4",
   "metadata": {},
   "outputs": [],
   "source": [
    "{\n",
    "  \"fujitsuDA3\": {\n",
    "    \"time_limit_sec\": 5,\n",
    "    \"two_way_one_hot_groups\": {\n",
    "      \"numbers\": [\n",
    "        4\n",
    "      ]\n",
    "    },\n",
    "    \"penalty_coef\": 10000\n",
    "  },\n",
    "  \"binary_polynomial\": {\n",
    "    \"terms\": [\n",
    "      {\n",
    "        \"coefficient\": -3,\n",
    "        \"polynomials\": [\n",
    "          0\n",
    "        ]\n",
    "      },\n",
    "      {\n",
    "        \"coefficient\": -4,\n",
    "        \"polynomials\": [\n",
    "          1\n",
    "        ]\n",
    "      },\n",
    "      {\n",
    "        \"coefficient\": -2,\n",
    "        \"polynomials\": [\n",
    "          2\n",
    "        ]\n",
    "      }\n",
    "    ]\n",
    "  },\n",
    "  \"penalty_binary_polynomial\": {\n",
    "    \"terms\": [\n",
    "      {\n",
    "        \"coefficient\": 5,\n",
    "        \"polynomials\": [\n",
    "          2\n",
    "        ]\n",
    "      }\n",
    "    ]\n",
    "  },\n",
    "  \"inequalities\": [\n",
    "    {\n",
    "      \"terms\": [\n",
    "        {\n",
    "          \"coefficient\": 3,\n",
    "          \"polynomials\": [\n",
    "            0\n",
    "          ]\n",
    "        },\n",
    "        {\n",
    "          \"coefficient\": 4,\n",
    "          \"polynomials\": [\n",
    "            2\n",
    "          ]\n",
    "        },\n",
    "        {\n",
    "          \"coefficient\": -3,\n",
    "          \"polynomials\": []\n",
    "        }\n",
    "      ],\n",
    "      \"lambda\": 1\n",
    "    },\n",
    "    {\n",
    "      \"terms\": [\n",
    "        {\n",
    "          \"coefficient\": 2,\n",
    "          \"polynomials\": [\n",
    "            0\n",
    "          ]\n",
    "        },\n",
    "        {\n",
    "          \"coefficient\": 4,\n",
    "          \"polynomials\": [\n",
    "            1\n",
    "          ]\n",
    "        },\n",
    "        {\n",
    "          \"coefficient\": 3,\n",
    "          \"polynomials\": [\n",
    "            2\n",
    "          ]\n",
    "        },\n",
    "        {\n",
    "          \"coefficient\": -7,\n",
    "          \"polynomials\": []\n",
    "        }\n",
    "      ]\n",
    "    }\n",
    "  ]\n",
    "}"
   ]
  },
  {
   "cell_type": "code",
   "execution_count": 7,
   "id": "337e3825",
   "metadata": {},
   "outputs": [],
   "source": [
    "{\n",
    "  \"fujitsuDA2\": {\n",
    "    \"expert_mode\": true,\n",
    "    \"number_iterations\": 1000000,\n",
    "    \"number_runs\": 16,\n",
    "    \"offset_increase_rate\": 819,\n",
    "    \"temperature_start\": 655,\n",
    "    \"temperature_decay\": 0.0001,\n",
    "    \"temperature_mode\": \"EXPONENTIAL\",\n",
    "    \"temperature_interval\": 100\n",
    "  },\n",
    "  \"binary_polynomial\": {\n",
    "    \"terms\": [\n",
    "      {\n",
    "        \"coefficient\": 2,\n",
    "        \"polynomials\": [\n",
    "          1,\n",
    "          2\n",
    "        ]\n",
    "      },\n",
    "      {\n",
    "        \"coefficient\": -4,\n",
    "        \"polynomials\": [\n",
    "          2,\n",
    "          4\n",
    "        ]\n",
    "      }\n",
    "    ]\n",
    "  }\n",
    "}"
   ]
  },
  {
   "cell_type": "code",
   "execution_count": null,
   "id": "33ada6a5",
   "metadata": {},
   "outputs": [],
   "source": []
  },
  {
   "cell_type": "code",
   "execution_count": 8,
   "id": "9f44fd40",
   "metadata": {},
   "outputs": [
    {
     "data": {
      "text/plain": [
       "<Response [403]>"
      ]
     },
     "execution_count": 8,
     "metadata": {},
     "output_type": "execute_result"
    }
   ],
   "source": [
    "{\n",
    "  \"fujitsuDA2PT\": {\n",
    "    \"number_iterations\": 1000000,\n",
    "    \"number_replicas\": 26,\n",
    "    \"guidance_config\": {\n",
    "      \"1\": false,\n",
    "      \"2\": false,\n",
    "      \"4\": false\n",
    "    }\n",
    "  },\n",
    "  \"binary_polynomial\": {\n",
    "    \"terms\": [\n",
    "      {\n",
    "        \"coefficient\": 2,\n",
    "        \"polynomials\": [\n",
    "          1,\n",
    "          2\n",
    "        ]\n",
    "      },\n",
    "      {\n",
    "        \"coefficient\": -4,\n",
    "        \"polynomials\": [\n",
    "          2,\n",
    "          4\n",
    "        ]\n",
    "      }\n",
    "    ]\n",
    "  }"
   ]
  },
  {
   "cell_type": "code",
   "execution_count": 12,
   "id": "1f6ee752",
   "metadata": {},
   "outputs": [
    {
     "data": {
      "text/plain": [
       "<Response [400]>"
      ]
     },
     "execution_count": 12,
     "metadata": {},
     "output_type": "execute_result"
    }
   ],
   "source": [
    "{\n",
    "  \"fujitsuDA2PT\": {\n",
    "    \"number_iterations\": 1000000,\n",
    "    \"number_replicas\": 26,\n",
    "    \"guidance_config\": {\n",
    "      \"1\": false,\n",
    "      \"2\": false,\n",
    "      \"4\": false\n",
    "    }\n",
    "  },\n",
    "  \"binary_polynomial\": {\n",
    "    \"terms\": [\n",
    "      {\n",
    "        \"coefficient\": 2,\n",
    "        \"polynomials\": [\n",
    "          1,\n",
    "          2\n",
    "        ]\n",
    "      },\n",
    "      {\n",
    "        \"coefficient\": -4,\n",
    "        \"polynomials\": [\n",
    "          2,\n",
    "          4\n",
    "        ]\n",
    "      }\n",
    "    ]\n",
    "  }\n",
    "}"
   ]
  },
  {
   "cell_type": "code",
   "execution_count": null,
   "id": "4fdcdbc6",
   "metadata": {},
   "outputs": [],
   "source": [
    "{\n",
    "  \"fujitsuDA3\": {\n",
    "    \"time_limit_sec\": 1,\n",
    "    \"penalty_coef\": 10000,\n",
    "    \"guidance_config\": {\n",
    "      \"1\": false,\n",
    "      \"2\": false,\n",
    "      \"4\": false\n",
    "    }\n",
    "  },\n",
    "  \"binary_polynomial\": {\n",
    "    \"terms\": [\n",
    "      {\n",
    "        \"coefficient\": 2,\n",
    "        \"polynomials\": [\n",
    "          1,\n",
    "          2\n",
    "        ]\n",
    "      },\n",
    "      {\n",
    "        \"coefficient\": -4,\n",
    "        \"polynomials\": [\n",
    "          2,\n",
    "          4\n",
    "        ]\n",
    "      }\n",
    "    ]\n",
    "  }\n",
    "}"
   ]
  },
  {
   "cell_type": "code",
   "execution_count": 9,
   "id": "5448736e",
   "metadata": {},
   "outputs": [],
   "source": [
    "{\n",
    "  \"fujitsuDA3\": {\n",
    "    \"time_limit_sec\": 5,\n",
    "    \"two_way_one_hot_groups\": {\n",
    "      \"numbers\": [\n",
    "        4\n",
    "      ]\n",
    "    },\n",
    "    \"penalty_coef\": 10000\n",
    "  },\n",
    "  \"binary_polynomial\": {\n",
    "    \"terms\": [\n",
    "      {\n",
    "        \"coefficient\": -3,\n",
    "        \"polynomials\": [\n",
    "          0\n",
    "        ]\n",
    "      },\n",
    "      {\n",
    "        \"coefficient\": -4,\n",
    "        \"polynomials\": [\n",
    "          1\n",
    "        ]\n",
    "      },\n",
    "      {\n",
    "        \"coefficient\": -2,\n",
    "        \"polynomials\": [\n",
    "          2\n",
    "        ]\n",
    "      }\n",
    "    ]\n",
    "  },\n",
    "  \"penalty_binary_polynomial\": {\n",
    "    \"terms\": [\n",
    "      {\n",
    "        \"coefficient\": 5,\n",
    "        \"polynomials\": [\n",
    "          2\n",
    "        ]\n",
    "      }\n",
    "    ]\n",
    "  },\n",
    "  \"inequalities\": [\n",
    "    {\n",
    "      \"terms\": [\n",
    "        {\n",
    "          \"coefficient\": 3,\n",
    "          \"polynomials\": [\n",
    "            0\n",
    "          ]\n",
    "        },\n",
    "        {\n",
    "          \"coefficient\": 4,\n",
    "          \"polynomials\": [\n",
    "            2\n",
    "          ]\n",
    "        },\n",
    "        {\n",
    "          \"coefficient\": -3,\n",
    "          \"polynomials\": []\n",
    "        }\n",
    "      ],\n",
    "      \"lambda\": 1\n",
    "    },\n",
    "    {\n",
    "      \"terms\": [\n",
    "        {\n",
    "          \"coefficient\": 2,\n",
    "          \"polynomials\": [\n",
    "            0\n",
    "          ]\n",
    "        },\n",
    "        {\n",
    "          \"coefficient\": 4,\n",
    "          \"polynomials\": [\n",
    "            1\n",
    "          ]\n",
    "        },\n",
    "        {\n",
    "          \"coefficient\": 3,\n",
    "          \"polynomials\": [\n",
    "            2\n",
    "          ]\n",
    "        },\n",
    "        {\n",
    "          \"coefficient\": -7,\n",
    "          \"polynomials\": []\n",
    "        }\n",
    "      ]\n",
    "    }\n",
    "  ]\n",
    "}"
   ]
  },
  {
   "cell_type": "code",
   "execution_count": null,
   "id": "45a3eec7",
   "metadata": {},
   "outputs": [],
   "source": []
  },
  {
   "cell_type": "code",
   "execution_count": null,
   "id": "1831cd66",
   "metadata": {},
   "outputs": [],
   "source": []
  }
 ],
 "metadata": {
  "kernelspec": {
   "display_name": "Python 3",
   "language": "python",
   "name": "python3"
  },
  "language_info": {
   "codemirror_mode": {
    "name": "ipython",
    "version": 3
   },
   "file_extension": ".py",
   "mimetype": "text/x-python",
   "name": "python",
   "nbconvert_exporter": "python",
   "pygments_lexer": "ipython3",
   "version": "3.8.6"
  }
 },
 "nbformat": 4,
 "nbformat_minor": 5
}
